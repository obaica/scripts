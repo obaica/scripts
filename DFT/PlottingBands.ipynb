{
 "cells": [
  {
   "cell_type": "markdown",
   "metadata": {},
   "source": [
    "# Plotting Band Structures"
   ]
  },
  {
   "cell_type": "markdown",
   "metadata": {},
   "source": [
    "There are a couple of different ways of plotting band Structures.\n",
    "\n",
    "1. p4v\n",
    "2. Pedram's script\n",
    "3. PyProcar"
   ]
  },
  {
   "cell_type": "markdown",
   "metadata": {},
   "source": [
    "# 1. p4v"
   ]
  },
  {
   "cell_type": "markdown",
   "metadata": {},
   "source": [
    "Open p4v and load vasp.xml. \n",
    "\n",
    "Also, export as bands.dat or bands.ags. Then run with xmgrace.`"
   ]
  },
  {
   "cell_type": "code",
   "execution_count": null,
   "metadata": {},
   "outputs": [],
   "source": [
    "xmgrace 'bands.ags'"
   ]
  },
  {
   "cell_type": "markdown",
   "metadata": {},
   "source": [
    "# 2. Pedram's script"
   ]
  },
  {
   "cell_type": "markdown",
   "metadata": {},
   "source": [
    "To read DOS"
   ]
  },
  {
   "cell_type": "code",
   "execution_count": null,
   "metadata": {},
   "outputs": [],
   "source": [
    "import numpy as np\n",
    "import matplotlib.pylab as plt\n",
    "import argparse\n",
    "from matplotlib.ticker import AutoMinorLocator\n",
    "parser = argparse.ArgumentParser()\n",
    "parser.add_argument('-legend',nargs='+',help='legen list')\n",
    "parser.add_argument('-xlim',nargs=2,type=float,help='x limits')\n",
    "parser.add_argument('-ylim',nargs=2,type=float,help='y limits')\n",
    "parser.add_argument('-input',dest='f',help='file name')\n",
    "parser.add_argument('-title',help='plot title')\n",
    "parser.add_argument('-orbitals',nargs='+',type=int,help='orbitals to be ploted')\n",
    "args = parser.parse_args()\n",
    "norb = len(args.orbitals)\n",
    "data = np.loadtxt(args.f)\n",
    "ndata = 3000\n",
    "from matplotlib import rc\n",
    "rc('text', usetex=True)\n",
    "plt.rcParams['pdf.fonttype'] = 42\n",
    "plt.rcParams['font.family'] = 'serif'\n",
    "fig , ax = plt.subplots()\n",
    "minorLocator = AutoMinorLocator()\n",
    "ax.xaxis.set_minor_locator(minorLocator)\n",
    "plt.tick_params(axis='x',direction='in',length=7,width=2,which='major')\n",
    "plt.tick_params(axis='x',direction='in',length=4,width=2,which='minor')\n",
    "plt.tick_params(axis='x',top='on')\n",
    "plt.tick_params(axis='x',top='on',direction='in',length=4,width=2,which='minor')\n",
    "plt.tick_params(axis='y',labelleft=0,left=0)\n",
    "if args.orbitals == None :\n",
    "    orbitals = range(1,len(data)/ndata)\n",
    "else :\n",
    "    orbitals = args.orbitals\n",
    "if args.legend == None :\n",
    "    legend = range(len(data)/ndata)\n",
    "else :\n",
    "    legend = args.legend\n",
    "for iorb in orbitals:\n",
    "    plt.plot(data[iorb*ndata:(iorb+1)*ndata,0],data[iorb*ndata:(iorb+1)*ndata,1],label = legend[iorb-1],linewidth=2)\n",
    "    print(len(data[iorb*ndata:(iorb+1)*ndata,0]))\n",
    "if args.xlim != None :\n",
    "    plt.xlim(args.xlim[0],args.xlim[1])\n",
    "if args.ylim != None :\n",
    "    plt.ylim(args.ylim[0],args.ylim[1])\n",
    "if args.title != None :\n",
    "    plt.title(args.title,fontsize=12)\n",
    "#plt.xticks(direction='in')\n",
    "#plt.get_minor_ticks()\n",
    "plt.xlabel('Energy (eV)',fontsize=16)\n",
    "plt.ylabel('Density of States(a.u.)',fontsize=16)\n",
    "plt.legend(fontsize=12)\n",
    "for axis in ['top','bottom','left','right']:\n",
    "    ax.spines[axis].set_linewidth(2)\n",
    "plt.axvline(x = 0.0 ,linewidth=2,color='#6309bf',linestyle='--')\n",
    "plt.savefig('DOS.pdf')\n",
    "plt.show()"
   ]
  },
  {
   "cell_type": "code",
   "execution_count": null,
   "metadata": {},
   "outputs": [],
   "source": [
    "python plot_DOS.py"
   ]
  },
  {
   "cell_type": "markdown",
   "metadata": {},
   "source": [
    "To plot bands"
   ]
  },
  {
   "cell_type": "code",
   "execution_count": null,
   "metadata": {},
   "outputs": [],
   "source": [
    "import numpy as np\n",
    "import matplotlib.pylab as plt\n",
    "import argparse\n",
    "from matplotlib.ticker import AutoMinorLocator\n",
    "import re\n",
    "parser = argparse.ArgumentParser()\n",
    "parser.add_argument('-legend',nargs='+',help='legen list')\n",
    "parser.add_argument('-xlim',nargs=2,type=int,help='x limits')\n",
    "parser.add_argument('-ylim',nargs=2,type=float,help='y limits')\n",
    "parser.add_argument('-input',dest='f',help='file name')\n",
    "parser.add_argument('-title',help='plot title')\n",
    "from matplotlib import rc\n",
    "rc('text', usetex=True)\n",
    "plt.rcParams['pdf.fonttype'] = 42\n",
    "plt.rcParams['font.family'] = 'serif'\n",
    "args = parser.parse_args()\n",
    "data = np.loadtxt(args.f)\n",
    "nbands = np.sum(np.sort(data) == 0)\n",
    "ndata_x = len(data)/nbands\n",
    "fig , ax = plt.subplots(figsize=(11,8))\n",
    "for iband in range(nbands) :\n",
    "    idata = data[iband*ndata_x:(iband+1)*ndata_x]\n",
    "    plt.plot(idata[:,0],idata[:,1],color='b',linewidth=2)\n",
    "#'#4863A0'\n",
    "try :\n",
    "    f = open('KPOINTS')\n",
    "    lines = f.readlines()\n",
    "    f.close()\n",
    "    f = open('KPOINTS')\n",
    "    KP = f.read()\n",
    "    f.close()\n",
    "except :\n",
    "    print(\"There is no file named KPOINTS\")\n",
    "KP1 = re.findall('reciprocal[\\s\\S]*',KP)\n",
    "tick_labels_raw = re.findall('!\\s(.*)',KP1[0])\n",
    "tick_labels_raw = np.array(tick_labels_raw)\n",
    "nkpoint = int(lines[1].split()[0])\n",
    "\n",
    "tick_pos = []\n",
    "minorLocator = AutoMinorLocator()\n",
    "ax.yaxis.set_minor_locator(minorLocator)\n",
    "plt.tick_params(axis='y',direction='in',length=7,width=2,which='major')\n",
    "plt.tick_params(axis='y',direction='in',length=4,width=2,which='minor')\n",
    "plt.tick_params(axis='y',right='on',direction='in',length=7,width=2,which='major')\n",
    "plt.tick_params(axis='y',right='on',direction='in',length=4,width=2,which='minor')\n",
    "plt.tick_params(axis='y',top='on',direction='in',length=4,width=2,which='minor')\n",
    "plt.tick_params(axis='x',bottom='off')\n",
    "if args.ylim != None :\n",
    "    plt.ylim(args.ylim[0],args.ylim[1])\n",
    "    for i in range(0,len(idata),nkpoint):\n",
    "        plt.axvline(x = idata[:,0][i],ymin=args.ylim[0],ymax=args.ylim[1],linewidth=2,color='black')\n",
    "        tick_pos.append(idata[:,0][i])\n",
    "    plt.axvline(x = idata[-1][0],ymin=args.ylim[0],ymax=args.ylim[1],linewidth=2,color='black')\n",
    "    tick_pos.append(idata[-1][0])\n",
    "else :\n",
    "    tick_pos = []\n",
    "    ymin, ymax = ax.get_ylim()\n",
    "    plt.ylim(ymin,ymax)\n",
    "    for i in range(0,len(idata),nkpoint):\n",
    "        plt.axvline(x = idata[:,0][i],ymin=ymin,ymax=ymax,linewidth=2,color='black')\n",
    "        tick_pos.append(idata[:,0][i])\n",
    "    plt.axvline(x = idata[-1][0],ymin=ymin,ymax=ymax,linewidth=2,color='black')\n",
    "    tick_pos.append(idata[-1][0])\n",
    "\n",
    "tick_labels = np.empty(len(tick_pos),dtype='|S16')\n",
    "for ilabel in range(0,len(tick_labels_raw),2):\n",
    "    if ilabel == 0 :\n",
    "        continue\n",
    "    if tick_labels_raw[ilabel-1] == tick_labels_raw[ilabel]:\n",
    "        tick_labels[ilabel/2] = tick_labels_raw[ilabel]\n",
    "    else :\n",
    "        tick_labels[ilabel/2] = tick_labels_raw[ilabel-1] +' '+ tick_labels_raw[ilabel]\n",
    "tick_labels[0] = tick_labels_raw[0]\n",
    "tick_labels[-1] = tick_labels_raw[-1]\n",
    "print(tick_labels)\n",
    "#for ilabel in range(len(tick_labels)):\n",
    "#   tick_labels[ilabel] =  '$'+tick_labels[ilabel]+'$'\n",
    "plt.xticks(tick_pos,tick_labels, fontsize=24,fontweight='bold')\n",
    "plt.yticks(fontsize=20)\n",
    "if args.xlim != None :\n",
    "    xmin = tick_pos[args.xlim[0]]\n",
    "    xmax = tick_pos[args.xlim[1]]\n",
    "    plt.xlim(xmin,xmax)\n",
    "else :\n",
    "    plt.xlim(0,idata[-1][0])\n",
    "\n",
    "if args.title != None :\n",
    "    plt.title(args.title,fontsize=20)\n",
    "plt.ylabel('Energy (eV)',fontsize=20)\n",
    "for axis in ['top','bottom','left','right']:\n",
    "    ax.spines[axis].set_linewidth(2)\n",
    "plt.axhline(y = 0.0 ,linewidth=2,color='#bf2909',linestyle='--')\n",
    "\n",
    "plt.savefig('BANDS.pdf')\n",
    "plt.show()"
   ]
  },
  {
   "cell_type": "markdown",
   "metadata": {},
   "source": [
    "# 3. PyPROCAR"
   ]
  },
  {
   "cell_type": "markdown",
   "metadata": {},
   "source": [
    "1. Use <a href=\"www.aflowlib.org\">aflowlib</a> to get KPOINT file for your POSCAR. "
   ]
  },
  {
   "cell_type": "markdown",
   "metadata": {},
   "source": [
    "Then run vasp. "
   ]
  },
  {
   "cell_type": "markdown",
   "metadata": {},
   "source": [
    "Repair PROCAR file"
   ]
  },
  {
   "cell_type": "code",
   "execution_count": null,
   "metadata": {},
   "outputs": [],
   "source": [
    "procar.py repair PROCAR PROCAR_repair"
   ]
  },
  {
   "cell_type": "markdown",
   "metadata": {},
   "source": [
    "Plot."
   ]
  },
  {
   "cell_type": "code",
   "execution_count": null,
   "metadata": {},
   "outputs": [],
   "source": [
    "procar.py bandsplot --outcar OUTCAR PROCAR_repaired -m parametric --kticks 0 15 31 47 --kname GM X W K -s 1 -o 1 2 3"
   ]
  },
  {
   "cell_type": "markdown",
   "metadata": {},
   "source": [
    "--kticks would be repeated for each kpoint from the number of kpoints specified in your kpoints file. "
   ]
  }
 ],
 "metadata": {
  "kernelspec": {
   "display_name": "Python 2",
   "language": "python",
   "name": "python2"
  },
  "language_info": {
   "codemirror_mode": {
    "name": "ipython",
    "version": 2
   },
   "file_extension": ".py",
   "mimetype": "text/x-python",
   "name": "python",
   "nbconvert_exporter": "python",
   "pygments_lexer": "ipython2",
   "version": "2.7.10"
  }
 },
 "nbformat": 4,
 "nbformat_minor": 2
}
